{
 "cells": [
  {
   "cell_type": "code",
   "execution_count": 1,
   "metadata": {},
   "outputs": [],
   "source": [
    "import mysql.connector"
   ]
  },
  {
   "cell_type": "code",
   "execution_count": 2,
   "metadata": {},
   "outputs": [],
   "source": [
    "mydb = mysql.connector.connect(\n",
    "    host = \"localhost\",\n",
    "    user = \"root\",\n",
    "    password=\"root\"\n",
    ")\n",
    "\n",
    "mycursor = mydb.cursor()\n",
    "mycursor.execute(\"CREATE DATABASE zomato_orders\")"
   ]
  },
  {
   "cell_type": "code",
   "execution_count": 3,
   "metadata": {},
   "outputs": [],
   "source": [
    "mydb = mysql.connector.connect(\n",
    "    host = \"localhost\",\n",
    "    user = \"root\",\n",
    "    password=\"root\",\n",
    "    database=\"zomato_orders\"\n",
    ")\n",
    "mycursor = mydb.cursor()"
   ]
  },
  {
   "cell_type": "code",
   "execution_count": 4,
   "metadata": {},
   "outputs": [],
   "source": [
    "#Creating Customer Table"
   ]
  },
  {
   "cell_type": "code",
   "execution_count": 5,
   "metadata": {},
   "outputs": [
    {
     "name": "stdout",
     "output_type": "stream",
     "text": [
      "('customer',)\n"
     ]
    }
   ],
   "source": [
    "\n",
    "mycursor.execute(\"CREATE TABLE Customer (customer_id INT PRIMARY KEY, name VARCHAR(255), \\\n",
    "                 email VARCHAR(255), phone VARCHAR(50), location VARCHAR(255), signup_date DATETIME, \\\n",
    "                 is_premium VARCHAR(255), preferred_cuisine VARCHAR(255), total_orders INT, average_rating FLOAT)\")\n",
    "\n",
    "mycursor.execute(\"SHOW TABLES\")\n",
    "for i in mycursor:\n",
    "    print(i)"
   ]
  },
  {
   "cell_type": "code",
   "execution_count": 6,
   "metadata": {},
   "outputs": [],
   "source": [
    "#Inserting values into table"
   ]
  },
  {
   "cell_type": "code",
   "execution_count": 7,
   "metadata": {},
   "outputs": [],
   "source": [
    "import pandas as pd\n",
    "customer_data = pd.read_csv(\"C:/Users/Sajiv/Documents/AI ML Projects/Project 1/Dataset/Customer.csv\")\n",
    "insert_query = \"INSERT INTO zomato_orders.Customer(customer_id, name, email, phone, location, signup_date, is_premium, preferred_cuisine, total_orders, average_rating) \\\n",
    "                values(%s,%s,%s,%s,%s,%s,%s,%s,%s,%s)\"\n",
    "\n",
    "for index, row in customer_data.iterrows():\n",
    "    mycursor.execute(insert_query,(row['customer_id'],row['name'],row['email'],row['phone'],row['location'],row['signup_date'],row['is_premium'],row['preferred_cuisine'],\n",
    "                                   row['total_orders'],row['average_rating']))"
   ]
  },
  {
   "cell_type": "code",
   "execution_count": 9,
   "metadata": {},
   "outputs": [],
   "source": [
    "#Creating Restaurant Table"
   ]
  },
  {
   "cell_type": "code",
   "execution_count": 10,
   "metadata": {},
   "outputs": [
    {
     "name": "stdout",
     "output_type": "stream",
     "text": [
      "('customer',)\n",
      "('restaurant',)\n"
     ]
    }
   ],
   "source": [
    "mycursor = mydb.cursor()\n",
    "\n",
    "mycursor.execute(\"CREATE TABLE Restaurant(restaurant_id INT PRIMARY KEY,name VARCHAR(100), cuisine_type VARCHAR(20), location VARCHAR(50), owner_name VARCHAR(30), average_delivery_time FLOAT, \\\n",
    "                 contact_number VARCHAR(50), rating FLOAT, total_orders INT, is_active VARCHAR(10))\")\n",
    "mycursor.execute(\"SHOW TABLES\")\n",
    "for i in mycursor:\n",
    "    print(i)"
   ]
  },
  {
   "cell_type": "code",
   "execution_count": 11,
   "metadata": {},
   "outputs": [],
   "source": [
    "restaurant_data = pd.read_csv(\"C:/Users/Sajiv/Documents/AI ML Projects/Project 1/Dataset/Restuarants.csv\")\n",
    "insert_query = \"INSERT INTO zomato_orders.Restaurant(restaurant_id, name, cuisine_type, location, owner_name, average_delivery_time, contact_number, rating, total_orders, is_active) \\\n",
    "                values(%s,%s,%s,%s,%s,%s,%s,%s,%s,%s)\"\n",
    "\n",
    "for index, row in restaurant_data.iterrows():\n",
    "    mycursor.execute(insert_query,(row['restaurant_id'],row['name'],row['cuisine_type'],row['location'],row['owner_name'],row['average_delivery_time'],row['contact_number'],row['rating'],\n",
    "                                  row['total_orders'],row['is_active']))"
   ]
  },
  {
   "cell_type": "code",
   "execution_count": 12,
   "metadata": {},
   "outputs": [],
   "source": [
    "#Orders Table"
   ]
  },
  {
   "cell_type": "code",
   "execution_count": 13,
   "metadata": {},
   "outputs": [],
   "source": [
    "mycursor.execute(\"CREATE TABLE ORDERS(order_id INT PRIMARY KEY, customer_id INT, restaurant_id INT, FOREIGN KEY (customer_id) REFERENCES Customer(customer_id), FOREIGN KEY (restaurant_id) REFERENCES Restaurant(restaurant_id), order_date VARCHAR(50), delivery_time INT, STATUS VARCHAR(15), TOTAL_AMOUNT FLOAT, \\\n",
    "                 payment_mode VARCHAR(25), discount_applied INT, feedback_rating FLOAT)\")"
   ]
  },
  {
   "cell_type": "code",
   "execution_count": 14,
   "metadata": {},
   "outputs": [],
   "source": [
    "orders_data = pd.read_csv(\"C:/Users/Sajiv/Documents/AI ML Projects/Project 1/Dataset/Orders.csv\")\n",
    "insert_query = \"INSERT INTO zomato_orders.Orders(order_id,customer_id,restaurant_id,order_date,delivery_time,status,total_amount,payment_mode,discount_applied,feedback_rating) \\\n",
    "                values (%s,%s,%s,%s,%s,%s,%s,%s,%s,%s)\"\n",
    "\n",
    "for index, row in orders_data.iterrows():\n",
    "    mycursor.execute(insert_query,(row['order_id'], row['customer_id'], row['restaurant_id'], row['order_date'], row['delivery_time'], row['status'], row['total_amount'], row['payment_mode'],\n",
    "                                   row['discount_applied'], row['feedback_rating']))\n"
   ]
  },
  {
   "cell_type": "code",
   "execution_count": 15,
   "metadata": {},
   "outputs": [],
   "source": [
    "#Deliveries Table"
   ]
  },
  {
   "cell_type": "code",
   "execution_count": 16,
   "metadata": {},
   "outputs": [],
   "source": [
    "mycursor.execute(\"CREATE TABLE Deliveries(delivery_id INT PRIMARY KEY, order_id INT, FOREIGN KEY (order_id) REFERENCES Orders(order_id), delivery_person_id INT, \\\n",
    "                 delivery_status VARCHAR(20), distance INT, delivery_time INT, estimated_time INT, delivery_fee FLOAT, vehicle_type VARCHAR(20))\")"
   ]
  },
  {
   "cell_type": "code",
   "execution_count": 17,
   "metadata": {},
   "outputs": [],
   "source": [
    "deliveries_table = pd.read_csv(\"C:/Users/Sajiv/Documents/AI ML Projects/Project 1/Dataset/Deliveries.csv\")\n",
    "insert_query = \"\"\"INSERT INTO zomato_orders.Deliveries(delivery_id, order_id, delivery_person_id, delivery_status, distance, delivery_time, estimated_time, delivery_fee, vehicle_type) \\\n",
    "                values (%s,%s,%s,%s,%s,%s,%s,%s,%s)\"\"\"\n",
    "\n",
    "for index, row in deliveries_table.iterrows():\n",
    "    mycursor.execute(insert_query,(row['delivery_id'], row['order_id'], row['delivery_person_id'], row['delivery_status'], row['distance'], row['delivery_time'], row['estimated_time'],\n",
    "                                   row['delivery_fee'], row['vehicle_type']))"
   ]
  }
 ],
 "metadata": {
  "kernelspec": {
   "display_name": "newenv1",
   "language": "python",
   "name": "python3"
  },
  "language_info": {
   "codemirror_mode": {
    "name": "ipython",
    "version": 3
   },
   "file_extension": ".py",
   "mimetype": "text/x-python",
   "name": "python",
   "nbconvert_exporter": "python",
   "pygments_lexer": "ipython3",
   "version": "3.10.0"
  }
 },
 "nbformat": 4,
 "nbformat_minor": 2
}
