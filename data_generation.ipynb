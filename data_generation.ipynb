{
 "cells": [
  {
   "cell_type": "code",
   "execution_count": 5,
   "metadata": {},
   "outputs": [],
   "source": [
    "import pandas as pd\n",
    "from faker import Faker"
   ]
  },
  {
   "cell_type": "code",
   "execution_count": 1,
   "metadata": {},
   "outputs": [],
   "source": [
    "#Customer_table"
   ]
  },
  {
   "cell_type": "code",
   "execution_count": 6,
   "metadata": {},
   "outputs": [],
   "source": [
    "Customers = []\n",
    "fake = Faker()\n",
    "\n",
    "for i in range(200):\n",
    "    customers= {\n",
    "        'customer_id': fake.random_number(digits=3, fix_len=True),\n",
    "        'name': fake.name(),\n",
    "        'email': fake.email(),\n",
    "        'phone': fake.phone_number(),\n",
    "        'location': fake.city(),\n",
    "        'signup_date': fake.date_this_decade(),\n",
    "        'is_premium': fake.boolean(),\n",
    "        'preferred_cuisine': fake.word(ext_word_list=['Italian', 'Chinese', 'Mexican', 'Indian', 'French']),\n",
    "        'total_orders': fake.random_int(min=1, max=100),\n",
    "        'average_rating': fake.random_int(min=1, max=5),\n",
    "    }\n",
    "    Customers.append(customers)\n",
    "Customer_1 = pd.DataFrame(Customers)\n",
    "Customer_1.to_csv(\"Customer_table.csv\")    "
   ]
  },
  {
   "cell_type": "code",
   "execution_count": 7,
   "metadata": {},
   "outputs": [],
   "source": [
    "# Restuarant_table"
   ]
  },
  {
   "cell_type": "code",
   "execution_count": 8,
   "metadata": {},
   "outputs": [],
   "source": [
    "Restaurants = []\n",
    "fake = Faker()\n",
    "\n",
    "for i in range(200):  \n",
    "    restaurant= {\n",
    "        'restaurant_id': fake.random_number(digits=3, fix_len=True),\n",
    "        'name': fake.company(),\n",
    "        'cuisine_type': fake.word(ext_word_list=['Italian', 'Chinese', 'Mexican', 'Indian', 'French']),\n",
    "        'location': fake.city(),\n",
    "        'owner_name': fake.name(),\n",
    "        'average_delivery_time': fake.random_int(min=10, max=60),\n",
    "        'contact_number': fake.phone_number(),\n",
    "        'rating': fake.random_int(min=1, max=5),\n",
    "        'total_orders': fake.random_int(min=1, max=100),\n",
    "        'is_active':fake.boolean(),\n",
    "    }\n",
    "    Restaurants.append(restaurant)\n",
    "restaurants_1 = pd.DataFrame(Restaurants)\n",
    "restaurants_1.to_csv(\"Restaurants_table.csv\")    "
   ]
  },
  {
   "cell_type": "code",
   "execution_count": 9,
   "metadata": {},
   "outputs": [],
   "source": [
    "#Orders_Table"
   ]
  },
  {
   "cell_type": "code",
   "execution_count": 10,
   "metadata": {},
   "outputs": [],
   "source": [
    "Orders = []\n",
    "\n",
    "for i in range(200):\n",
    "    order={\n",
    "        'order_id':fake.random_number(digits=3, fix_len=True),\n",
    "        'customer_id':fake.random_number(digits=3, fix_len=True),\n",
    "        'restaurant_id':fake.random_number(digits=3, fix_len=True),\n",
    "        'order_date':fake.date_this_decade(),\n",
    "        'delivery_time':fake.random_int(min=0, max=60), \n",
    "        'status':fake.word(ext_word_list=['Pending', 'Delivered', 'Cancelled']),\n",
    "        'total_amount':fake.random_int(min=25, max=1000),\n",
    "        'payment_mode':fake.word(ext_word_list=['Credit_Card', 'Cash', 'UPI']),\n",
    "        'discount_applied':fake.random_int(min=2, max=150),\n",
    "        'feedback_rating':fake.random_int(min=1, max=5),\n",
    "    }\n",
    "    Orders.append(order)\n",
    "orders_1 = pd.DataFrame(Orders)\n",
    "orders_1.to_csv(\"Orders_table.csv\")  "
   ]
  },
  {
   "cell_type": "code",
   "execution_count": 11,
   "metadata": {},
   "outputs": [],
   "source": [
    "#Deliveries_Table"
   ]
  },
  {
   "cell_type": "code",
   "execution_count": 12,
   "metadata": {},
   "outputs": [],
   "source": [
    "Deliveries =[]\n",
    "\n",
    "for i in range(200):\n",
    "    delivery ={\n",
    "        'delivery_id':fake.random_number(digits=3, fix_len=True),\n",
    "        'order_id':fake.random_number(digits=3, fix_len=True),\n",
    "        'delivery_person_id':fake.random_number(digits=3, fix_len=True),\n",
    "        'delivery_status':fake.word(ext_word_list=['On the way','Delivered']),\n",
    "        'distance':fake.random_int(min=10, max=100),\n",
    "        'delivery_time': fake.random_int(min=5, max=100),\n",
    "        'estimated_time':fake.random_int(min=10, max=100),\n",
    "        'delivery_fee':fake.random_int(min=10, max=100),\n",
    "        'vehicle_type':fake.word(ext_word_list=['Car','Bike']),\n",
    "    }\n",
    "    Deliveries.append(delivery)\n",
    "deliveries_1 = pd.DataFrame(Deliveries)\n",
    "deliveries_1.to_csv(\"Deliveries_table.csv\")    "
   ]
  }
 ],
 "metadata": {
  "kernelspec": {
   "display_name": "newenv1",
   "language": "python",
   "name": "python3"
  },
  "language_info": {
   "codemirror_mode": {
    "name": "ipython",
    "version": 3
   },
   "file_extension": ".py",
   "mimetype": "text/x-python",
   "name": "python",
   "nbconvert_exporter": "python",
   "pygments_lexer": "ipython3",
   "version": "3.10.0"
  }
 },
 "nbformat": 4,
 "nbformat_minor": 2
}
